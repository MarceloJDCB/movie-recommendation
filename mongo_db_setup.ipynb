{
 "cells": [
  {
   "cell_type": "markdown",
   "metadata": {
    "language": "markdown"
   },
   "source": [
    "# Carregando Dados de Teste para MongoDB\n",
    "\n",
    "Este notebook insere dados mockados no MongoDB para testar a API de filmes.\n",
    "Ele vai criar filmes, usuários e avaliações para fins de teste.\n",
    "\n",
    "bibliotecas necessárias: pip install motor faker pandas jupyter notebook"
   ]
  },
  {
   "cell_type": "markdown",
   "metadata": {
    "language": "markdown"
   },
   "source": [
    "## Configuração e Dependências\n",
    "\n",
    "Primeiro, vamos importar as bibliotecas necessárias e configurar a conexão com o MongoDB."
   ]
  },
  {
   "cell_type": "code",
   "execution_count": 1,
   "metadata": {
    "language": "python"
   },
   "outputs": [
    {
     "name": "stdout",
     "output_type": "stream",
     "text": [
      "Conectando a mongodb://localhost:27017...\n"
     ]
    }
   ],
   "source": [
    "import asyncio\n",
    "import os\n",
    "from datetime import datetime, timedelta\n",
    "from bson import ObjectId\n",
    "from motor.motor_asyncio import AsyncIOMotorClient\n",
    "from faker import Faker\n",
    "import random\n",
    "import pandas as pd\n",
    "from pprint import pprint\n",
    "import warnings\n",
    "warnings.filterwarnings('ignore')\n",
    "\n",
    "# Criar instância do Faker para gerar dados aleatórios\n",
    "fake = Faker('pt_BR')\n",
    "\n",
    "# Configuração do MongoDB\n",
    "MONGO_URL = \"mongodb://localhost:27017\"  # Altere para a URL do seu container\n",
    "DATABASE_NAME = \"myfastapidb\"\n",
    "\n",
    "print(f\"Conectando a {MONGO_URL}...\")"
   ]
  },
  {
   "cell_type": "markdown",
   "metadata": {
    "language": "markdown"
   },
   "source": [
    "## Função para Conectar ao MongoDB\n",
    "\n",
    "Esta função estabelece a conexão com o MongoDB usando o driver assíncrono Motor."
   ]
  },
  {
   "cell_type": "code",
   "execution_count": 2,
   "metadata": {
    "language": "python"
   },
   "outputs": [],
   "source": [
    "async def connect_to_mongo():\n",
    "    \"\"\"Conectar ao MongoDB e retornar o cliente e o banco de dados\"\"\"\n",
    "    client = AsyncIOMotorClient(MONGO_URL)\n",
    "    db = client[DATABASE_NAME]\n",
    "    return client, db\n",
    "\n",
    "# Função para fechar a conexão\n",
    "async def close_mongo_connection(client):\n",
    "    \"\"\"Fechar a conexão com o MongoDB\"\"\"\n",
    "    client.close()"
   ]
  },
  {
   "cell_type": "markdown",
   "metadata": {
    "language": "markdown"
   },
   "source": [
    "## Limpeza do Banco de Dados\n",
    "\n",
    "Limpar o banco de dados antes de inserir os novos dados de teste."
   ]
  },
  {
   "cell_type": "code",
   "execution_count": 3,
   "metadata": {
    "language": "python"
   },
   "outputs": [
    {
     "name": "stdout",
     "output_type": "stream",
     "text": [
      "Coleção movies limpa com sucesso.\n",
      "Coleção users limpa com sucesso.\n",
      "Coleção reviews limpa com sucesso.\n"
     ]
    }
   ],
   "source": [
    "async def clean_database(db):\n",
    "    \"\"\"Limpar todas as coleções do banco de dados\"\"\"\n",
    "    collections = ['movies', 'users', 'reviews']\n",
    "    \n",
    "    for collection in collections:\n",
    "        await db[collection].delete_many({})\n",
    "        print(f\"Coleção {collection} limpa com sucesso.\")\n",
    "\n",
    "# Executar limpeza\n",
    "async def run_cleanup():\n",
    "    client, db = await connect_to_mongo()\n",
    "    await clean_database(db)\n",
    "    await close_mongo_connection(client)\n",
    "    \n",
    "# Executar de forma assíncrona\n",
    "await run_cleanup()"
   ]
  },
  {
   "cell_type": "markdown",
   "metadata": {
    "language": "markdown"
   },
   "source": [
    "## Criação de Dados de Filmes\n",
    "\n",
    "Vamos criar dados para 50 filmes com informações realistas."
   ]
  },
  {
   "cell_type": "code",
   "execution_count": 4,
   "metadata": {
    "language": "python"
   },
   "outputs": [
    {
     "name": "stdout",
     "output_type": "stream",
     "text": [
      "{'_id': ObjectId('60d21b4967d0d8992e610c86'),\n",
      " 'actors': ['Tim Robbins', 'Morgan Freeman', 'Bob Gunton'],\n",
      " 'director': 'Frank Darabont',\n",
      " 'genres': ['Drama'],\n",
      " 'title': 'The Shawshank Redemption'}\n",
      "{'_id': ObjectId('60d21b4967d0d8992e610c87'),\n",
      " 'actors': ['Marlon Brando', 'Al Pacino', 'James Caan'],\n",
      " 'director': 'Francis Ford Coppola',\n",
      " 'genres': ['Crime', 'Drama'],\n",
      " 'title': 'The Godfather'}\n",
      "{'_id': ObjectId('60d21b4967d0d8992e610c88'),\n",
      " 'actors': ['Christian Bale', 'Heath Ledger', 'Aaron Eckhart'],\n",
      " 'director': 'Christopher Nolan',\n",
      " 'genres': ['Action', 'Crime', 'Drama'],\n",
      " 'title': 'The Dark Knight'}\n"
     ]
    }
   ],
   "source": [
    "def generate_movies(count=50):\n",
    "    \"\"\"Gerar dados de filmes para teste\"\"\"\n",
    "    # Dados para aumentar o realismo\n",
    "    genres = [\n",
    "        \"Ação\", \"Aventura\", \"Animação\", \"Biografia\", \"Comédia\", \n",
    "        \"Crime\", \"Documentário\", \"Drama\", \"Família\", \"Fantasia\", \n",
    "        \"História\", \"Terror\", \"Musical\", \"Mistério\", \"Romance\", \n",
    "        \"Ficção Científica\", \"Thriller\", \"Guerra\", \"Faroeste\"\n",
    "    ]\n",
    "    \n",
    "    famous_directors = [\n",
    "        \"Steven Spielberg\", \"Martin Scorsese\", \"Christopher Nolan\",\n",
    "        \"Quentin Tarantino\", \"James Cameron\", \"Ridley Scott\",\n",
    "        \"Francis Ford Coppola\", \"Peter Jackson\", \"David Fincher\",\n",
    "        \"Woody Allen\", \"Tim Burton\", \"Stanley Kubrick\",\n",
    "        \"Alfred Hitchcock\", \"Clint Eastwood\", \"Spike Lee\"\n",
    "    ]\n",
    "    \n",
    "    famous_actors = [\n",
    "        \"Tom Hanks\", \"Leonardo DiCaprio\", \"Robert De Niro\", \"Meryl Streep\",\n",
    "        \"Brad Pitt\", \"Johnny Depp\", \"Denzel Washington\", \"Morgan Freeman\",\n",
    "        \"Jennifer Lawrence\", \"Sandra Bullock\", \"Scarlett Johansson\", \"Emma Stone\",\n",
    "        \"Viola Davis\", \"Samuel L. Jackson\", \"Harrison Ford\", \"Tom Cruise\",\n",
    "        \"Will Smith\", \"Keanu Reeves\", \"Anthony Hopkins\", \"Al Pacino\",\n",
    "        \"Anne Hathaway\", \"Cate Blanchett\", \"Angelina Jolie\", \"Daniel Day-Lewis\"\n",
    "    ]\n",
    "    \n",
    "    # Lista de filmes conhecidos para adicionar à lista\n",
    "    known_movies = [\n",
    "        {\n",
    "            \"_id\": ObjectId(\"60d21b4967d0d8992e610c86\"),\n",
    "            \"title\": \"The Shawshank Redemption\",\n",
    "            \"genres\": [\"Drama\"],\n",
    "            \"director\": \"Frank Darabont\",\n",
    "            \"actors\": [\"Tim Robbins\", \"Morgan Freeman\", \"Bob Gunton\"]\n",
    "        },\n",
    "        {\n",
    "            \"_id\": ObjectId(\"60d21b4967d0d8992e610c87\"),\n",
    "            \"title\": \"The Godfather\",\n",
    "            \"genres\": [\"Crime\", \"Drama\"],\n",
    "            \"director\": \"Francis Ford Coppola\",\n",
    "            \"actors\": [\"Marlon Brando\", \"Al Pacino\", \"James Caan\"]\n",
    "        },\n",
    "        {\n",
    "            \"_id\": ObjectId(\"60d21b4967d0d8992e610c88\"),\n",
    "            \"title\": \"The Dark Knight\",\n",
    "            \"genres\": [\"Action\", \"Crime\", \"Drama\"],\n",
    "            \"director\": \"Christopher Nolan\",\n",
    "            \"actors\": [\"Christian Bale\", \"Heath Ledger\", \"Aaron Eckhart\"]\n",
    "        },\n",
    "        {\n",
    "            \"_id\": ObjectId(\"60d21b4967d0d8992e610c89\"),\n",
    "            \"title\": \"Inception\",\n",
    "            \"genres\": [\"Action\", \"Adventure\", \"Sci-Fi\"],\n",
    "            \"director\": \"Christopher Nolan\",\n",
    "            \"actors\": [\"Leonardo DiCaprio\", \"Joseph Gordon-Levitt\", \"Ellen Page\"]\n",
    "        },\n",
    "        {\n",
    "            \"_id\": ObjectId(\"60d21b4967d0d8992e610c8a\"),\n",
    "            \"title\": \"Pulp Fiction\",\n",
    "            \"genres\": [\"Crime\", \"Drama\"],\n",
    "            \"director\": \"Quentin Tarantino\",\n",
    "            \"actors\": [\"John Travolta\", \"Uma Thurman\", \"Samuel L. Jackson\"]\n",
    "        }\n",
    "    ]\n",
    "    \n",
    "    # Começar com os filmes conhecidos\n",
    "    movies = known_movies.copy()\n",
    "    \n",
    "    # Continuar a gerar até atingir o número desejado\n",
    "    for i in range(len(movies), count):\n",
    "        # Gerar um filme aleatório\n",
    "        movie = {\n",
    "            \"_id\": ObjectId(),\n",
    "            \"title\": fake.catch_phrase(),\n",
    "            \"genres\": random.sample(genres, random.randint(1, 3)),\n",
    "            \"director\": random.choice(famous_directors),\n",
    "            \"actors\": random.sample(famous_actors, random.randint(3, 6))\n",
    "        }\n",
    "        movies.append(movie)\n",
    "    \n",
    "    return movies\n",
    "\n",
    "# Gerar filmes\n",
    "movies_data = generate_movies()\n",
    "\n",
    "# Mostrar alguns filmes de exemplo\n",
    "for movie in movies_data[:3]:\n",
    "    pprint(movie)"
   ]
  },
  {
   "cell_type": "markdown",
   "metadata": {
    "language": "markdown"
   },
   "source": [
    "## Criação de Dados de Usuários\n",
    "\n",
    "Vamos criar alguns usuários para testes, incluindo seus dados e senhas já hasheadas."
   ]
  },
  {
   "cell_type": "code",
   "execution_count": 5,
   "metadata": {
    "language": "python"
   },
   "outputs": [
    {
     "name": "stdout",
     "output_type": "stream",
     "text": [
      "Username: testuser, Email: test@example.com\n",
      "Username: emptyuser, Email: empty@example.com\n",
      "Username: maria-flor83, Email: isouza@example.net\n"
     ]
    }
   ],
   "source": [
    "def generate_users(count=10):\n",
    "    \"\"\"Gerar dados de usuários para teste\"\"\"\n",
    "    # Hash de senha mockado - em produção usaria bcrypt\n",
    "    hashed_password = \"$2b$12$EixZaYVK1fsbw1ZfbX3OXePaWxn96p36WQoeG6Lruj3vjPGga31lW\"  # 'password'\n",
    "    \n",
    "    # Começar com os usuários de teste conhecidos\n",
    "    users = [\n",
    "        {\n",
    "            \"_id\": ObjectId(\"60d21b4967d0d8992e610c85\"),\n",
    "            \"username\": \"testuser\",\n",
    "            \"email\": \"test@example.com\",\n",
    "            \"password_hash\": hashed_password,\n",
    "            \"created_at\": datetime.utcnow() - timedelta(days=30)\n",
    "        },\n",
    "        {\n",
    "            \"_id\": ObjectId(\"60d21b4967d0d8992e610c84\"),\n",
    "            \"username\": \"emptyuser\",\n",
    "            \"email\": \"empty@example.com\",\n",
    "            \"password_hash\": hashed_password,\n",
    "            \"created_at\": datetime.utcnow() - timedelta(days=20)\n",
    "        }\n",
    "    ]\n",
    "    \n",
    "    # Gerar usuários adicionais\n",
    "    for i in range(len(users), count):\n",
    "        user = {\n",
    "            \"_id\": ObjectId(),\n",
    "            \"username\": fake.user_name(),\n",
    "            \"email\": fake.email(),\n",
    "            \"password_hash\": hashed_password,\n",
    "            \"created_at\": datetime.utcnow() - timedelta(days=random.randint(1, 60))\n",
    "        }\n",
    "        users.append(user)\n",
    "    \n",
    "    return users\n",
    "\n",
    "# Gerar usuários\n",
    "users_data = generate_users()\n",
    "\n",
    "# Mostrar alguns usuários de exemplo\n",
    "for user in users_data[:3]:\n",
    "    print(f\"Username: {user['username']}, Email: {user['email']}\")"
   ]
  },
  {
   "cell_type": "markdown",
   "metadata": {
    "language": "markdown"
   },
   "source": [
    "## Criação de Dados de Avaliações\n",
    "\n",
    "Agora vamos criar avaliações de filmes pelos usuários."
   ]
  },
  {
   "cell_type": "code",
   "execution_count": 6,
   "metadata": {
    "language": "python"
   },
   "outputs": [
    {
     "name": "stdout",
     "output_type": "stream",
     "text": [
      "Total de avaliações geradas: 100\n",
      "Avaliação média: 3.03\n",
      "Usuário: 60d21b4967d0d8992e610c85, Filme: 60d21b4967d0d8992e610c86, Nota: 5.0\n",
      "Comentário: Excelente filme!\n",
      "\n",
      "Usuário: 60d21b4967d0d8992e610c85, Filme: 60d21b4967d0d8992e610c87, Nota: 4.5\n",
      "Comentário: Um clássico!\n",
      "\n",
      "Usuário: 67f29e314e8a747725e0c8b3, Filme: 67f29e314e8a747725e0c89c, Nota: 3.0\n",
      "Comentário: Teve bons momentos, mas também fracos.\n",
      "\n"
     ]
    }
   ],
   "source": [
    "def generate_reviews(users, movies, count=100):\n",
    "    \"\"\"Gerar dados de avaliações para teste\"\"\"\n",
    "    # Comentários comuns para avaliações\n",
    "    positive_comments = [\n",
    "        \"Excelente filme! Recomendo muito.\",\n",
    "        \"Um dos melhores que já assisti.\",\n",
    "        \"Ótima atuação e direção impecável.\",\n",
    "        \"Roteiro surpreendente e bem executado.\",\n",
    "        \"Adorei cada minuto, muito envolvente!\"\n",
    "    ]\n",
    "    \n",
    "    neutral_comments = [\n",
    "        \"Filme razoável, vale assistir uma vez.\",\n",
    "        \"Teve bons momentos, mas também fracos.\",\n",
    "        \"Esperava mais, mas não foi ruim.\",\n",
    "        \"Uma história interessante, mas previsível.\",\n",
    "        \"Entretenimento médio.\"\n",
    "    ]\n",
    "    \n",
    "    negative_comments = [\n",
    "        \"Não recomendo, muito fraco.\",\n",
    "        \"Desperdiçou um bom potencial.\",\n",
    "        \"Roteiro confuso e atuações fracas.\",\n",
    "        \"Faltou desenvolvimento dos personagens.\",\n",
    "        \"Muito longo e pouco interessante.\"\n",
    "    ]\n",
    "    \n",
    "    # Começar com as avaliações conhecidas dos testes\n",
    "    reviews = [\n",
    "        {\n",
    "            \"_id\": ObjectId(\"60d21b4967d0d8992e610c90\"),\n",
    "            \"user_id\": str(users[0][\"_id\"]),  # testuser\n",
    "            \"movie_id\": str(movies[0][\"_id\"]),  # Shawshank\n",
    "            \"rating\": 5.0,\n",
    "            \"comment\": \"Excelente filme!\",\n",
    "            \"created_at\": datetime.utcnow() - timedelta(days=15)\n",
    "        },\n",
    "        {\n",
    "            \"_id\": ObjectId(\"60d21b4967d0d8992e610c91\"),\n",
    "            \"user_id\": str(users[0][\"_id\"]),  # testuser\n",
    "            \"movie_id\": str(movies[1][\"_id\"]),  # Godfather\n",
    "            \"rating\": 4.5,\n",
    "            \"comment\": \"Um clássico!\",\n",
    "            \"created_at\": datetime.utcnow() - timedelta(days=10)\n",
    "        }\n",
    "    ]\n",
    "    \n",
    "    # Manter registro de pares usuário-filme já avaliados\n",
    "    evaluated_pairs = set([(review[\"user_id\"], review[\"movie_id\"]) for review in reviews])\n",
    "    \n",
    "    # Gerar avaliações adicionais aleatórias\n",
    "    while len(reviews) < count:\n",
    "        user = random.choice(users)\n",
    "        movie = random.choice(movies)\n",
    "        \n",
    "        user_id = str(user[\"_id\"])\n",
    "        movie_id = str(movie[\"_id\"])\n",
    "        \n",
    "        # Evitar duplicatas\n",
    "        if (user_id, movie_id) in evaluated_pairs:\n",
    "            continue\n",
    "        \n",
    "        # Gerar avaliação aleatória\n",
    "        rating = round(random.uniform(1.0, 5.0) * 2) / 2  # Arredondar para incrementos de 0.5\n",
    "        \n",
    "        # Selecionar comentário baseado na avaliação\n",
    "        if rating >= 4.0:\n",
    "            comment = random.choice(positive_comments)\n",
    "        elif rating >= 2.5:\n",
    "            comment = random.choice(neutral_comments)\n",
    "        else:\n",
    "            comment = random.choice(negative_comments)\n",
    "        \n",
    "        # Criar avaliação\n",
    "        review = {\n",
    "            \"_id\": ObjectId(),\n",
    "            \"user_id\": user_id,\n",
    "            \"movie_id\": movie_id,\n",
    "            \"rating\": rating,\n",
    "            \"comment\": comment,\n",
    "            \"created_at\": datetime.utcnow() - timedelta(days=random.randint(1, 30))\n",
    "        }\n",
    "        \n",
    "        # Adicionar à lista e ao conjunto de pares avaliados\n",
    "        reviews.append(review)\n",
    "        evaluated_pairs.add((user_id, movie_id))\n",
    "    \n",
    "    return reviews\n",
    "\n",
    "# Gerar avaliações\n",
    "reviews_data = generate_reviews(users_data, movies_data)\n",
    "\n",
    "# Mostrar distribuição das avaliações\n",
    "ratings = [review[\"rating\"] for review in reviews_data]\n",
    "average_rating = sum(ratings) / len(ratings)\n",
    "\n",
    "print(f\"Total de avaliações geradas: {len(reviews_data)}\")\n",
    "print(f\"Avaliação média: {average_rating:.2f}\")\n",
    "\n",
    "# Mostrar algumas avaliações de exemplo\n",
    "for review in reviews_data[:3]:\n",
    "    print(f\"Usuário: {review['user_id']}, Filme: {review['movie_id']}, Nota: {review['rating']}\")\n",
    "    print(f\"Comentário: {review['comment']}\\n\")"
   ]
  },
  {
   "cell_type": "markdown",
   "metadata": {
    "language": "markdown"
   },
   "source": [
    "## Inserir Dados no MongoDB\n",
    "\n",
    "Agora vamos inserir todos os dados no MongoDB."
   ]
  },
  {
   "cell_type": "code",
   "execution_count": 7,
   "metadata": {
    "language": "python"
   },
   "outputs": [
    {
     "name": "stdout",
     "output_type": "stream",
     "text": [
      "Inseridos 50 filmes no banco de dados.\n",
      "Inseridos 10 usuários no banco de dados.\n",
      "Inseridas 100 avaliações no banco de dados.\n",
      "\n",
      "Todos os dados foram inseridos com sucesso!\n"
     ]
    }
   ],
   "source": [
    "async def insert_data_to_mongo():\n",
    "    \"\"\"Inserir todos os dados no MongoDB\"\"\"\n",
    "    client, db = await connect_to_mongo()\n",
    "    \n",
    "    try:\n",
    "        # Inserir filmes\n",
    "        result_movies = await db.movies.insert_many(movies_data)\n",
    "        print(f\"Inseridos {len(result_movies.inserted_ids)} filmes no banco de dados.\")\n",
    "        \n",
    "        # Inserir usuários\n",
    "        result_users = await db.users.insert_many(users_data)\n",
    "        print(f\"Inseridos {len(result_users.inserted_ids)} usuários no banco de dados.\")\n",
    "        \n",
    "        # Inserir avaliações\n",
    "        result_reviews = await db.reviews.insert_many(reviews_data)\n",
    "        print(f\"Inseridas {len(result_reviews.inserted_ids)} avaliações no banco de dados.\")\n",
    "        \n",
    "        print(\"\\nTodos os dados foram inseridos com sucesso!\")\n",
    "    except Exception as e:\n",
    "        print(f\"Erro ao inserir dados: {str(e)}\")\n",
    "    finally:\n",
    "        await close_mongo_connection(client)\n",
    "\n",
    "# Executar inserção de dados\n",
    "await insert_data_to_mongo()"
   ]
  },
  {
   "cell_type": "markdown",
   "metadata": {
    "language": "markdown"
   },
   "source": [
    "## Verificar os Dados Inseridos\n",
    "\n",
    "Vamos verificar os dados inseridos no MongoDB."
   ]
  },
  {
   "cell_type": "code",
   "execution_count": 8,
   "metadata": {
    "language": "python"
   },
   "outputs": [
    {
     "name": "stdout",
     "output_type": "stream",
     "text": [
      "Filmes: 50\n",
      "Usuários: 10\n",
      "Avaliações: 100\n",
      "\n",
      "Dados verificados com sucesso.\n",
      "\n",
      "Exemplo de filme:\n",
      "{'_id': ObjectId('60d21b4967d0d8992e610c86'),\n",
      " 'actors': ['Tim Robbins', 'Morgan Freeman', 'Bob Gunton'],\n",
      " 'director': 'Frank Darabont',\n",
      " 'genres': ['Drama'],\n",
      " 'title': 'The Shawshank Redemption'}\n",
      "\n",
      "Exemplo de usuário:\n",
      "{'_id': ObjectId('60d21b4967d0d8992e610c85'),\n",
      " 'created_at': datetime.datetime(2025, 3, 7, 15, 30, 57, 440000),\n",
      " 'email': 'test@example.com',\n",
      " 'username': 'testuser'}\n",
      "\n",
      "Exemplo de avaliação:\n",
      "{'_id': ObjectId('60d21b4967d0d8992e610c90'),\n",
      " 'comment': 'Excelente filme!',\n",
      " 'created_at': datetime.datetime(2025, 3, 22, 15, 30, 57, 459000),\n",
      " 'movie_id': '60d21b4967d0d8992e610c86',\n",
      " 'rating': 5.0,\n",
      " 'user_id': '60d21b4967d0d8992e610c85'}\n"
     ]
    }
   ],
   "source": [
    "async def verify_data():\n",
    "    \"\"\"Verificar os dados inseridos no MongoDB\"\"\"\n",
    "    client, db = await connect_to_mongo()\n",
    "    \n",
    "    try:\n",
    "        # Contar documentos em cada coleção\n",
    "        movies_count = await db.movies.count_documents({})\n",
    "        users_count = await db.users.count_documents({})\n",
    "        reviews_count = await db.reviews.count_documents({})\n",
    "        \n",
    "        print(f\"Filmes: {movies_count}\")\n",
    "        print(f\"Usuários: {users_count}\")\n",
    "        print(f\"Avaliações: {reviews_count}\")\n",
    "        \n",
    "        print(\"\\nDados verificados com sucesso.\")\n",
    "        \n",
    "        # Buscar alguns exemplos\n",
    "        print(\"\\nExemplo de filme:\")\n",
    "        movie = await db.movies.find_one({})\n",
    "        pprint(movie)\n",
    "        \n",
    "        print(\"\\nExemplo de usuário:\")\n",
    "        user = await db.users.find_one({})\n",
    "        user_display = {k:v for k,v in user.items() if k != 'password_hash'}\n",
    "        pprint(user_display)\n",
    "        \n",
    "        print(\"\\nExemplo de avaliação:\")\n",
    "        review = await db.reviews.find_one({})\n",
    "        pprint(review)\n",
    "    except Exception as e:\n",
    "        print(f\"Erro ao verificar dados: {str(e)}\")\n",
    "    finally:\n",
    "        await close_mongo_connection(client)\n",
    "\n",
    "# Executar verificação\n",
    "await verify_data()"
   ]
  },
  {
   "cell_type": "markdown",
   "metadata": {
    "language": "markdown"
   },
   "source": [
    "## Consultas Avançadas\n",
    "\n",
    "Vamos realizar algumas consultas avançadas para verificar os dados."
   ]
  },
  {
   "cell_type": "code",
   "execution_count": 9,
   "metadata": {
    "language": "python"
   },
   "outputs": [
    {
     "name": "stdout",
     "output_type": "stream",
     "text": [
      "Top 5 filmes com melhor avaliação:\n",
      "\n",
      "Top 3 usuários mais ativos:\n",
      "Usuário: bento77\n",
      "Avaliações: 13\n",
      "\n",
      "Usuário: manuelacunha\n",
      "Avaliações: 12\n",
      "\n",
      "Usuário: isadora58\n",
      "Avaliações: 12\n",
      "\n",
      "\n",
      "Gêneros mais populares:\n",
      "Gênero: Drama\n",
      "Filmes: 12\n",
      "\n",
      "Gênero: Crime\n",
      "Filmes: 9\n",
      "\n",
      "Gênero: Aventura\n",
      "Filmes: 8\n",
      "\n",
      "Gênero: Comédia\n",
      "Filmes: 7\n",
      "\n",
      "Gênero: Ação\n",
      "Filmes: 6\n",
      "\n",
      "Gênero: Drama\n",
      "Filmes: 12\n",
      "\n",
      "Gênero: Crime\n",
      "Filmes: 9\n",
      "\n",
      "Gênero: Aventura\n",
      "Filmes: 8\n",
      "\n",
      "Gênero: Comédia\n",
      "Filmes: 7\n",
      "\n",
      "Gênero: Ação\n",
      "Filmes: 6\n",
      "\n"
     ]
    }
   ],
   "source": [
    "async def advanced_queries():\n",
    "    \"\"\"Realizar consultas avançadas no MongoDB\"\"\"\n",
    "    client, db = await connect_to_mongo()\n",
    "    \n",
    "    try:\n",
    "        # 1. Filmes com maior média de avaliação (usando aggregation)\n",
    "        print(\"Top 5 filmes com melhor avaliação:\")\n",
    "        pipeline = [\n",
    "            {\n",
    "                \"$lookup\": {\n",
    "                    \"from\": \"reviews\",\n",
    "                    \"localField\": \"_id\",\n",
    "                    \"foreignField\": \"movie_id\",\n",
    "                    \"as\": \"reviews\"\n",
    "                }\n",
    "            },\n",
    "            {\n",
    "                \"$match\": {\n",
    "                    \"reviews\": {\"$ne\": []}\n",
    "                }\n",
    "            },\n",
    "            {\n",
    "                \"$addFields\": {\n",
    "                    \"avg_rating\": {\"$avg\": \"$reviews.rating\"},\n",
    "                    \"review_count\": {\"$size\": \"$reviews\"}\n",
    "                }\n",
    "            },\n",
    "            {\n",
    "                \"$sort\": {\"avg_rating\": -1}\n",
    "            },\n",
    "            {\n",
    "                \"$limit\": 5\n",
    "            },\n",
    "            {\n",
    "                \"$project\": {\n",
    "                    \"_id\": 1,\n",
    "                    \"title\": 1,\n",
    "                    \"avg_rating\": 1,\n",
    "                    \"review_count\": 1\n",
    "                }\n",
    "            }\n",
    "        ]\n",
    "        \n",
    "        cursor = db.movies.aggregate(pipeline)\n",
    "        results = await cursor.to_list(length=5)\n",
    "        \n",
    "        for movie in results:\n",
    "            print(f\"Título: {movie['title']}\")\n",
    "            print(f\"Avaliação média: {movie['avg_rating']:.2f} ({movie['review_count']} avaliações)\")\n",
    "            print()\n",
    "        \n",
    "        # 2. Usuários mais ativos (com mais avaliações)\n",
    "        print(\"\\nTop 3 usuários mais ativos:\")\n",
    "        pipeline = [\n",
    "            {\n",
    "                \"$group\": {\n",
    "                    \"_id\": \"$user_id\",\n",
    "                    \"count\": {\"$sum\": 1}\n",
    "                }\n",
    "            },\n",
    "            {\n",
    "                \"$sort\": {\"count\": -1}\n",
    "            },\n",
    "            {\n",
    "                \"$limit\": 3\n",
    "            }\n",
    "        ]\n",
    "        \n",
    "        cursor = db.reviews.aggregate(pipeline)\n",
    "        results = await cursor.to_list(length=3)\n",
    "        \n",
    "        for result in results:\n",
    "            user_id = result[\"_id\"]\n",
    "            user = await db.users.find_one({\"_id\": ObjectId(user_id)})\n",
    "            if user:\n",
    "                print(f\"Usuário: {user['username']}\")\n",
    "                print(f\"Avaliações: {result['count']}\")\n",
    "                print()\n",
    "        \n",
    "        # 3. Gêneros mais populares\n",
    "        print(\"\\nGêneros mais populares:\")\n",
    "        pipeline = [\n",
    "            {\"$unwind\": \"$genres\"},\n",
    "            {\n",
    "                \"$group\": {\n",
    "                    \"_id\": \"$genres\",\n",
    "                    \"count\": {\"$sum\": 1}\n",
    "                }\n",
    "            },\n",
    "            {\n",
    "                \"$sort\": {\"count\": -1}\n",
    "            },\n",
    "            {\n",
    "                \"$limit\": 5\n",
    "            }\n",
    "        ]\n",
    "        \n",
    "        cursor = db.movies.aggregate(pipeline)\n",
    "        results = await cursor.to_list(length=5)\n",
    "        \n",
    "        for genre in results:\n",
    "            print(f\"Gênero: {genre['_id']}\")\n",
    "            print(f\"Filmes: {genre['count']}\")\n",
    "            print()\n",
    "        \n",
    "    except Exception as e:\n",
    "        print(f\"Erro ao executar consultas avançadas: {str(e)}\")\n",
    "    finally:\n",
    "        await close_mongo_connection(client)\n",
    "\n",
    "# Executar consultas avançadas\n",
    "await advanced_queries()"
   ]
  },
  {
   "cell_type": "markdown",
   "metadata": {
    "language": "markdown"
   },
   "source": [
    "## Conclusão\n",
    "\n",
    "Os dados de teste foram inseridos com sucesso no MongoDB. Agora você pode usar esse ambiente para testar seu backend FastAPI conectando-se ao banco de dados.\n",
    "\n",
    "Para executar o backend, certifique-se de que a configuração de conexão do MongoDB esteja correta e inicie sua aplicação com o comando:\n",
    "\n",
    "```bash\n",
    "uvicorn main:app --reload\n",
    "```\n",
    "\n",
    "Ou usando Docker:\n",
    "\n",
    "```bash\n",
    "docker-compose up\n",
    "```\n",
    "\n",
    "Observe que este notebook pode ser usado para redefinir os dados de teste quando necessário."
   ]
  },
  {
   "cell_type": "markdown",
   "metadata": {},
   "source": [
    "## Criação de Índices\n",
    "\n",
    "Vamos criar índices estratégicos para otimizar as consultas mais comuns no sistema."
   ]
  },
  {
   "cell_type": "code",
   "execution_count": null,
   "metadata": {},
   "outputs": [],
   "source": [
    "async def create_indexes():\n",
    "    \"\"\"Criar índices estratégicos para otimizar as consultas mais comuns\"\"\"\n",
    "    client, db = await connect_to_mongo()\n",
    "    \n",
    "    try:\n",
    "        print(\"Criando índices estratégicos...\")\n",
    "        \n",
    "        # Índices para a coleção movies\n",
    "        # Índice para busca por título (operações de busca/filtro)\n",
    "        await db.movies.create_index(\"title\")\n",
    "        print(\"✓ Índice criado: movies.title\")\n",
    "        \n",
    "        # Índice para busca por gêneros (usado nas recomendações e filtros)\n",
    "        await db.movies.create_index(\"genres\")\n",
    "        print(\"✓ Índice criado: movies.genres\")\n",
    "        \n",
    "        # Índices para a coleção users\n",
    "        # Índice único para username (login e busca de usuários)\n",
    "        await db.users.create_index(\"username\", unique=True)\n",
    "        print(\"✓ Índice criado: users.username (unique)\")\n",
    "        \n",
    "        # Índice único para email (registro e validação)\n",
    "        await db.users.create_index(\"email\", unique=True)\n",
    "        print(\"✓ Índice criado: users.email (unique)\")\n",
    "        \n",
    "        # Índices para a coleção reviews\n",
    "        # Índice composto para user_id + movie_id (validações de avaliações únicas)\n",
    "        await db.reviews.create_index(\n",
    "            [(\"user_id\", 1), (\"movie_id\", 1)],\n",
    "            unique=True\n",
    "        )\n",
    "        print(\"✓ Índice criado: reviews.user_id + movie_id (unique)\")\n",
    "        \n",
    "        # Índice para movie_id (buscar avaliações de um filme)\n",
    "        await db.reviews.create_index(\"movie_id\")\n",
    "        print(\"✓ Índice criado: reviews.movie_id\")\n",
    "        \n",
    "        print(\"\\nTodos os índices essenciais foram criados com sucesso!\")\n",
    "    except Exception as e:\n",
    "        print(f\"Erro ao criar índices: {str(e)}\")\n",
    "    finally:\n",
    "        await close_mongo_connection(client)\n",
    "\n",
    "# Executar criação de índices\n",
    "await create_indexes()"
   ]
  }
 ],
 "metadata": {
  "kernelspec": {
   "display_name": "venv",
   "language": "python",
   "name": "python3"
  },
  "language_info": {
   "codemirror_mode": {
    "name": "ipython",
    "version": 3
   },
   "file_extension": ".py",
   "mimetype": "text/x-python",
   "name": "python",
   "nbconvert_exporter": "python",
   "pygments_lexer": "ipython3",
   "version": "3.10.11"
  }
 },
 "nbformat": 4,
 "nbformat_minor": 4
}
